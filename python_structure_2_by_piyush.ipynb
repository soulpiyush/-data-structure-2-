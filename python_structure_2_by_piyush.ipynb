{
  "nbformat": 4,
  "nbformat_minor": 0,
  "metadata": {
    "colab": {
      "provenance": []
    },
    "kernelspec": {
      "name": "python3",
      "display_name": "Python 3"
    },
    "language_info": {
      "name": "python"
    }
  },
  "cells": [
    {
      "cell_type": "code",
      "execution_count": 1,
      "metadata": {
        "colab": {
          "base_uri": "https://localhost:8080/"
        },
        "id": "tC4yaXP5WqPT",
        "outputId": "6550e1f4-8e80-49ed-9ce6-c3a3a2f9788a"
      },
      "outputs": [
        {
          "output_type": "stream",
          "name": "stdout",
          "text": [
            "piyush\n"
          ]
        }
      ],
      "source": [
        "#question-1\n",
        "your_name=(\"piyush\")\n",
        "print(your_name)"
      ]
    },
    {
      "cell_type": "code",
      "source": [
        "#question-2\n",
        "(\"hello world\")\n",
        "len(\"hello world\")"
      ],
      "metadata": {
        "colab": {
          "base_uri": "https://localhost:8080/"
        },
        "id": "nDnhtWlYWtY_",
        "outputId": "bbbdb044-99a0-49a3-a356-02278d4b07c8"
      },
      "execution_count": 2,
      "outputs": [
        {
          "output_type": "execute_result",
          "data": {
            "text/plain": [
              "11"
            ]
          },
          "metadata": {},
          "execution_count": 2
        }
      ]
    },
    {
      "cell_type": "code",
      "source": [
        "#question-3\n",
        "p=(\"python programming\")\n",
        "p[:3]"
      ],
      "metadata": {
        "colab": {
          "base_uri": "https://localhost:8080/",
          "height": 36
        },
        "id": "B6n6Zbv1Ww0p",
        "outputId": "e0796b6c-2b2c-4920-e425-ea05e22969d2"
      },
      "execution_count": 3,
      "outputs": [
        {
          "output_type": "execute_result",
          "data": {
            "text/plain": [
              "'pyt'"
            ],
            "application/vnd.google.colaboratory.intrinsic+json": {
              "type": "string"
            }
          },
          "metadata": {},
          "execution_count": 3
        }
      ]
    },
    {
      "cell_type": "code",
      "source": [
        "#question 4\n",
        "(\"hello\")\n",
        "\"hello\".upper()"
      ],
      "metadata": {
        "colab": {
          "base_uri": "https://localhost:8080/",
          "height": 36
        },
        "id": "vEk09Nw6W0VE",
        "outputId": "fd28b134-3f54-4b28-a992-edff8b29510a"
      },
      "execution_count": 4,
      "outputs": [
        {
          "output_type": "execute_result",
          "data": {
            "text/plain": [
              "'HELLO'"
            ],
            "application/vnd.google.colaboratory.intrinsic+json": {
              "type": "string"
            }
          },
          "metadata": {},
          "execution_count": 4
        }
      ]
    },
    {
      "cell_type": "code",
      "source": [
        "#question 5\n",
        "me=(\"I like apple\")\n",
        "me.replace(\"apple\",\"orange\")"
      ],
      "metadata": {
        "colab": {
          "base_uri": "https://localhost:8080/",
          "height": 36
        },
        "id": "uccNa8BlW4Zm",
        "outputId": "2f2c5454-f912-4d0a-c036-54c2d48aba76"
      },
      "execution_count": 5,
      "outputs": [
        {
          "output_type": "execute_result",
          "data": {
            "text/plain": [
              "'I like orange'"
            ],
            "application/vnd.google.colaboratory.intrinsic+json": {
              "type": "string"
            }
          },
          "metadata": {},
          "execution_count": 5
        }
      ]
    },
    {
      "cell_type": "code",
      "source": [
        "#question 6\n",
        "list=[1,2,3,4,5]\n",
        "print(list)"
      ],
      "metadata": {
        "colab": {
          "base_uri": "https://localhost:8080/"
        },
        "id": "wVy1rlq0XDTJ",
        "outputId": "32f95cbb-ddae-4291-f3c9-169e83e29ba9"
      },
      "execution_count": 6,
      "outputs": [
        {
          "output_type": "stream",
          "name": "stdout",
          "text": [
            "[1, 2, 3, 4, 5]\n"
          ]
        }
      ]
    },
    {
      "cell_type": "code",
      "source": [
        "##question 7\n",
        "list1=[1,2,3,4]\n",
        "list1.append(10)\n",
        "list1"
      ],
      "metadata": {
        "colab": {
          "base_uri": "https://localhost:8080/"
        },
        "id": "dpak4pmiXFwu",
        "outputId": "9e7bb7a5-c2df-4920-95aa-229138d7ce00"
      },
      "execution_count": 7,
      "outputs": [
        {
          "output_type": "execute_result",
          "data": {
            "text/plain": [
              "[1, 2, 3, 4, 10]"
            ]
          },
          "metadata": {},
          "execution_count": 7
        }
      ]
    },
    {
      "cell_type": "code",
      "source": [
        "#question 8\n",
        "l2=[1,2,3,4,5]\n",
        "l2.pop(2)\n",
        "l2"
      ],
      "metadata": {
        "colab": {
          "base_uri": "https://localhost:8080/"
        },
        "id": "8qK32yUoXH_t",
        "outputId": "e5774577-13ed-4060-8abc-8e45458c058b"
      },
      "execution_count": 8,
      "outputs": [
        {
          "output_type": "execute_result",
          "data": {
            "text/plain": [
              "[1, 2, 4, 5]"
            ]
          },
          "metadata": {},
          "execution_count": 8
        }
      ]
    },
    {
      "cell_type": "code",
      "source": [
        "#question-9\n",
        "l3=['a','b','c','d']\n",
        "l3[1]"
      ],
      "metadata": {
        "colab": {
          "base_uri": "https://localhost:8080/",
          "height": 36
        },
        "id": "ca2wwtWtXKg-",
        "outputId": "18bc9dbd-63ae-4fb0-96da-843200a397e0"
      },
      "execution_count": 9,
      "outputs": [
        {
          "output_type": "execute_result",
          "data": {
            "text/plain": [
              "'b'"
            ],
            "application/vnd.google.colaboratory.intrinsic+json": {
              "type": "string"
            }
          },
          "metadata": {},
          "execution_count": 9
        }
      ]
    },
    {
      "cell_type": "code",
      "source": [
        "#question-10\n",
        "l4=[10,20,30,40,50]\n",
        "l4[::-1]"
      ],
      "metadata": {
        "colab": {
          "base_uri": "https://localhost:8080/"
        },
        "id": "h6C1wLZ9XNZL",
        "outputId": "0b9000f5-57b6-4601-defd-12ca9a95616b"
      },
      "execution_count": 10,
      "outputs": [
        {
          "output_type": "execute_result",
          "data": {
            "text/plain": [
              "[50, 40, 30, 20, 10]"
            ]
          },
          "metadata": {},
          "execution_count": 10
        }
      ]
    },
    {
      "cell_type": "code",
      "source": [
        "#question-11\n",
        "t=(100,200,300)\n",
        "print(t)"
      ],
      "metadata": {
        "colab": {
          "base_uri": "https://localhost:8080/"
        },
        "id": "2ynFTyaxXPdf",
        "outputId": "8b7ad88b-9a2b-4900-dc96-cbd775d59157"
      },
      "execution_count": 11,
      "outputs": [
        {
          "output_type": "stream",
          "name": "stdout",
          "text": [
            "(100, 200, 300)\n"
          ]
        }
      ]
    },
    {
      "cell_type": "code",
      "source": [
        "#question-12\n",
        "t2=(\"red\",\"green\",\"blue\",\"yellow\")\n",
        "t2[1:]"
      ],
      "metadata": {
        "colab": {
          "base_uri": "https://localhost:8080/"
        },
        "id": "9lFTpNEyXR5Z",
        "outputId": "86daabd6-2fba-403a-9b3d-fe94aace634c"
      },
      "execution_count": 12,
      "outputs": [
        {
          "output_type": "execute_result",
          "data": {
            "text/plain": [
              "('green', 'blue', 'yellow')"
            ]
          },
          "metadata": {},
          "execution_count": 12
        }
      ]
    },
    {
      "cell_type": "code",
      "source": [
        "#Question-13\n",
        "t3=(10,20,5,15)\n",
        "min(t3)"
      ],
      "metadata": {
        "colab": {
          "base_uri": "https://localhost:8080/"
        },
        "id": "P0tT5dxkXUGm",
        "outputId": "09f99601-d6e6-4790-9e1e-c04b8746e7de"
      },
      "execution_count": 13,
      "outputs": [
        {
          "output_type": "execute_result",
          "data": {
            "text/plain": [
              "5"
            ]
          },
          "metadata": {},
          "execution_count": 13
        }
      ]
    },
    {
      "cell_type": "code",
      "source": [
        "#question-14\n",
        "t4=(\"dog\",\"cat\",\"rabbit\")\n",
        "t4.index(\"cat\")"
      ],
      "metadata": {
        "colab": {
          "base_uri": "https://localhost:8080/"
        },
        "id": "q6gl8dFAXWHx",
        "outputId": "2c88eef5-053a-46c6-a564-97d1c25f2bb6"
      },
      "execution_count": 14,
      "outputs": [
        {
          "output_type": "execute_result",
          "data": {
            "text/plain": [
              "1"
            ]
          },
          "metadata": {},
          "execution_count": 14
        }
      ]
    },
    {
      "cell_type": "code",
      "source": [
        "#question-15\n",
        "t5=(\"orange\",\"banana\",\"kiwi\")\n",
        "\"kiwi\" in t5"
      ],
      "metadata": {
        "colab": {
          "base_uri": "https://localhost:8080/"
        },
        "id": "KoPtgrU0XYc_",
        "outputId": "d4f70a62-cc36-432f-cfcc-4526e99c31ad"
      },
      "execution_count": 15,
      "outputs": [
        {
          "output_type": "execute_result",
          "data": {
            "text/plain": [
              "True"
            ]
          },
          "metadata": {},
          "execution_count": 15
        }
      ]
    },
    {
      "cell_type": "code",
      "source": [
        "#questipn 16\n",
        "s={\"a\",\"b\",\"c\"}\n",
        "print(s)"
      ],
      "metadata": {
        "colab": {
          "base_uri": "https://localhost:8080/"
        },
        "id": "N-M19KfhXaTD",
        "outputId": "415121a6-2980-4a36-9aa5-5f3a4d6830e3"
      },
      "execution_count": 16,
      "outputs": [
        {
          "output_type": "stream",
          "name": "stdout",
          "text": [
            "{'c', 'a', 'b'}\n"
          ]
        }
      ]
    },
    {
      "cell_type": "code",
      "source": [
        "#question17\n",
        "s2={1,2,3,4,5}\n",
        "s2.clear()"
      ],
      "metadata": {
        "id": "O7KKNFQ4Xb_9"
      },
      "execution_count": 17,
      "outputs": []
    },
    {
      "cell_type": "code",
      "source": [
        "#question-18\n",
        "s3={1,2,3,4}\n",
        "s3.remove(4)"
      ],
      "metadata": {
        "id": "zZiyCUNKXd8U"
      },
      "execution_count": 18,
      "outputs": []
    },
    {
      "cell_type": "code",
      "source": [
        "s4={1,2,3}\n",
        "s5={3,4,5}\n",
        "s4|s5"
      ],
      "metadata": {
        "colab": {
          "base_uri": "https://localhost:8080/"
        },
        "id": "K7WYc8lJXf6W",
        "outputId": "6b0d117b-8f98-475d-add0-dd5667005d83"
      },
      "execution_count": 19,
      "outputs": [
        {
          "output_type": "execute_result",
          "data": {
            "text/plain": [
              "{1, 2, 3, 4, 5}"
            ]
          },
          "metadata": {},
          "execution_count": 19
        }
      ]
    },
    {
      "cell_type": "code",
      "source": [
        "#question-20\n",
        "s6={1,2,3}\n",
        "s7={2,3,4}\n",
        "s6&s7"
      ],
      "metadata": {
        "colab": {
          "base_uri": "https://localhost:8080/"
        },
        "id": "gJyybk1KXiBC",
        "outputId": "cae8e1ec-e0b1-4c78-c127-0b350bf3a6c3"
      },
      "execution_count": 20,
      "outputs": [
        {
          "output_type": "execute_result",
          "data": {
            "text/plain": [
              "{2, 3}"
            ]
          },
          "metadata": {},
          "execution_count": 20
        }
      ]
    },
    {
      "cell_type": "code",
      "source": [
        "#question-21\n",
        "d={\"name\":\"piyush\",\"age\":23,\"city\":\"jaipur\"}\n",
        "print(d)"
      ],
      "metadata": {
        "colab": {
          "base_uri": "https://localhost:8080/"
        },
        "id": "TkmQb01jXkBG",
        "outputId": "cbf34930-b913-4af0-b18b-f2cb33775fb5"
      },
      "execution_count": 21,
      "outputs": [
        {
          "output_type": "stream",
          "name": "stdout",
          "text": [
            "{'name': 'piyush', 'age': 23, 'city': 'jaipur'}\n"
          ]
        }
      ]
    },
    {
      "cell_type": "code",
      "source": [
        "#question-22\n",
        "d1={\"name\":\"john\",\"age\":25}\n",
        "d1[\"country\"]=\"usa\"\n",
        "print(d1)"
      ],
      "metadata": {
        "colab": {
          "base_uri": "https://localhost:8080/"
        },
        "id": "RMn0j91-XmBX",
        "outputId": "eb70ee43-53f5-4b6b-e089-b9e19cc530d3"
      },
      "execution_count": 22,
      "outputs": [
        {
          "output_type": "stream",
          "name": "stdout",
          "text": [
            "{'name': 'john', 'age': 25, 'country': 'usa'}\n"
          ]
        }
      ]
    },
    {
      "cell_type": "code",
      "source": [
        "#question-23\n",
        "d2={\"name\":\"alice\",\"age\":30}\n",
        "d2[\"name\"]"
      ],
      "metadata": {
        "colab": {
          "base_uri": "https://localhost:8080/",
          "height": 36
        },
        "id": "WGz2njpCXoNL",
        "outputId": "3dcdea5b-2a40-4fb4-d355-79e240a5ed03"
      },
      "execution_count": 23,
      "outputs": [
        {
          "output_type": "execute_result",
          "data": {
            "text/plain": [
              "'alice'"
            ],
            "application/vnd.google.colaboratory.intrinsic+json": {
              "type": "string"
            }
          },
          "metadata": {},
          "execution_count": 23
        }
      ]
    },
    {
      "cell_type": "code",
      "source": [
        "#question-24\n",
        "d3={\"name\":\"bob\",\"age\":22,\"city\":\"new york\"}\n",
        "del d3[\"age\"]"
      ],
      "metadata": {
        "id": "S0t7ztlsXpz4"
      },
      "execution_count": 24,
      "outputs": []
    },
    {
      "cell_type": "code",
      "source": [
        "#question-25\n",
        "d4={\"name\":\"alice\",\"city\":\"paris\"}\n",
        "\"city\" in d4"
      ],
      "metadata": {
        "colab": {
          "base_uri": "https://localhost:8080/"
        },
        "id": "2_BimE1jXr0S",
        "outputId": "1c4e9a61-5b19-45f4-8a84-0fbaaf81522f"
      },
      "execution_count": 25,
      "outputs": [
        {
          "output_type": "execute_result",
          "data": {
            "text/plain": [
              "True"
            ]
          },
          "metadata": {},
          "execution_count": 25
        }
      ]
    },
    {
      "cell_type": "code",
      "source": [
        "#question-26\n",
        "c1=[\"piyush\",2,3,4,5,6]\n",
        "c2=(\"lala\",7,8,9,0)\n",
        "c3={\"name\":\"piyush\",\"age\":23}\n",
        "print(c1)\n",
        "print(c2)\n",
        "print(c3)\n"
      ],
      "metadata": {
        "colab": {
          "base_uri": "https://localhost:8080/"
        },
        "id": "UjFc-7A4Xtht",
        "outputId": "35a63e9a-e1b3-47f1-b9c1-85a51a02651d"
      },
      "execution_count": 28,
      "outputs": [
        {
          "output_type": "stream",
          "name": "stdout",
          "text": [
            "['piyush', 2, 3, 4, 5, 6]\n",
            "('lala', 7, 8, 9, 0)\n",
            "{'name': 'piyush', 'age': 23}\n"
          ]
        }
      ]
    },
    {
      "cell_type": "code",
      "source": [
        "#question-27\n",
        "import random\n",
        "list1 = []\n",
        "for i in range(5):\n",
        "    random_numbers = random.randint(1,100)\n",
        "    list1.append(random_numbers)\n",
        "list1.sort()\n",
        "print(list1)"
      ],
      "metadata": {
        "colab": {
          "base_uri": "https://localhost:8080/"
        },
        "id": "bLrhTME0Xvdn",
        "outputId": "da19ec19-8ade-4464-b42e-3a93b10ac769"
      },
      "execution_count": 29,
      "outputs": [
        {
          "output_type": "stream",
          "name": "stdout",
          "text": [
            "[21, 24, 36, 77, 85]\n"
          ]
        }
      ]
    },
    {
      "cell_type": "code",
      "source": [
        "#Question-28\n",
        "e=[\"piyush\",\"kaka\",\"lala\",\"lalu\"]\n",
        "e[3]"
      ],
      "metadata": {
        "colab": {
          "base_uri": "https://localhost:8080/",
          "height": 36
        },
        "id": "XdP5JrLIYGcU",
        "outputId": "2f36e408-b076-4650-c910-52aaa29b8248"
      },
      "execution_count": 30,
      "outputs": [
        {
          "output_type": "execute_result",
          "data": {
            "text/plain": [
              "'lalu'"
            ],
            "application/vnd.google.colaboratory.intrinsic+json": {
              "type": "string"
            }
          },
          "metadata": {},
          "execution_count": 30
        }
      ]
    },
    {
      "cell_type": "code",
      "source": [
        "#question-29\n",
        "e={\"game\":\"kajha\",\"age\":52}\n",
        "f={\"name\":\"sher\",\"place\":\"jaipur\"}\n",
        "h=e|f\n",
        "print(h)\n",
        "\n",
        "# one more way\n",
        "j={\"game\":\"khokho\",\"age\":52}\n",
        "k={\"name\":\"don\",\"place\":\"lal land\"}\n",
        "j|k"
      ],
      "metadata": {
        "colab": {
          "base_uri": "https://localhost:8080/"
        },
        "id": "3-qYGG1sYJhH",
        "outputId": "f3e81104-4a6e-421c-b7f4-804c60b6da75"
      },
      "execution_count": 33,
      "outputs": [
        {
          "output_type": "stream",
          "name": "stdout",
          "text": [
            "{'game': 'kajha', 'age': 52, 'name': 'sher', 'place': 'jaipur'}\n"
          ]
        },
        {
          "output_type": "execute_result",
          "data": {
            "text/plain": [
              "{'game': 'khokho', 'age': 52, 'name': 'don', 'place': 'lal land'}"
            ]
          },
          "metadata": {},
          "execution_count": 33
        }
      ]
    },
    {
      "cell_type": "code",
      "source": [
        "#question-30\n",
        "p=[\"dost\",\"you\",\"my\",\"don\"]\n",
        "p=(set(p))\n",
        "type(p)"
      ],
      "metadata": {
        "colab": {
          "base_uri": "https://localhost:8080/"
        },
        "id": "f0iS15H-YLfT",
        "outputId": "a8d87327-1527-4ecc-a277-573cd309a0de"
      },
      "execution_count": 32,
      "outputs": [
        {
          "output_type": "execute_result",
          "data": {
            "text/plain": [
              "set"
            ]
          },
          "metadata": {},
          "execution_count": 32
        }
      ]
    },
    {
      "cell_type": "code",
      "source": [],
      "metadata": {
        "id": "cl7xFAAnYNkd"
      },
      "execution_count": null,
      "outputs": []
    }
  ]
}